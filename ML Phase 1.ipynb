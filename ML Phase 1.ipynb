{
 "cells": [
  {
   "cell_type": "markdown",
   "id": "016a80d1",
   "metadata": {},
   "source": [
    "# Predicting Red Wine Quality\n",
    "## Phase 1: Data Preparation & Visualisation\n",
    "### Galen Herten-Crabb 3955778 \n",
    "---"
   ]
  },
  {
   "cell_type": "markdown",
   "id": "48176a65",
   "metadata": {},
   "source": [
    "### Contents\n",
    "\n",
    "* Introduction\n",
    "    * Dataset Source\n",
    "    * Dataset Details\n",
    "    * Dataset Features\n",
    "    * Target Feature\n",
    "* Goals & Objectives\n",
    "* Data Cleaning & Preprocessing\n",
    "* Data Exploration & Visualisation\n",
    "* Summary & Conclusion\n",
    "* References\n",
    "\n",
    "---"
   ]
  },
  {
   "cell_type": "markdown",
   "id": "72dc21bd",
   "metadata": {},
   "source": [
    "## Dataset Source\n",
    "\n",
    "The Wine Quality-Red dataset comes from the University of California, School of Information and Computer Science Machine Learning Repository (Cortez et al., 2009) and is one of two datasets created by a team of researchers to determine characteristics related to wine quality in both red and white wines. Both datasets are related to red and white variants of the Portuguese \"Vinho Verde\" wine.\n",
    "\n",
    "\n",
    "   "
   ]
  },
  {
   "cell_type": "markdown",
   "id": "580623f7",
   "metadata": {},
   "source": [
    "## Dataset Details\n",
    "\n",
    "Due to privacy and logistic issues, only physicochemical (inputs) and sensory (the output) variables are available, so we don't know what grapes are used or which brands participated. What we do have is the qualitative evaluation of many anonymous wines and their particular chemical characteristics. These include fixed acidity, volatile acidity, citric acid, residual sugar, chlorides, free sulfur dioxide, total sulfur dioxide, density, pH, sulphates, alcohol and finaly quality.\n",
    "\n",
    "12 variables in all and 1599 observations\n",
    "\n",
    "### Dataset Retrieval\n",
    "\n",
    "* Load in the data from appropriate file\n",
    "* Display 10 randomly sampled rows from the wine quality-red dataset"
   ]
  },
  {
   "cell_type": "code",
   "execution_count": null,
   "id": "e00b0bd9",
   "metadata": {},
   "outputs": [],
   "source": [
    "import warnings\n",
    "warnings.filterwarnings(\"ignore\")\n",
    "\n",
    "import numpy as np\n",
    "import pandas as pd\n",
    "import io\n",
    "import requests\n",
    "\n",
    "pd.set_option('display.max_columns', None) \n",
    "\n",
    "###\n",
    "import matplotlib.pyplot as plt\n",
    "import seaborn as sns\n",
    "%matplotlib inline \n",
    "%config InlineBackend.figure_format = 'retina'\n",
    "plt.style.use(\"seaborn\")\n",
    "###"
   ]
  },
  {
   "cell_type": "code",
   "execution_count": null,
   "id": "9aa6c715",
   "metadata": {},
   "outputs": [],
   "source": [
    "wine = pd.read_csv('winequality-red.csv', sep=';') "
   ]
  },
  {
   "cell_type": "markdown",
   "id": "faf21c79",
   "metadata": {},
   "source": [
    "## Dataset Features"
   ]
  },
  {
   "cell_type": "markdown",
   "id": "257604d1",
   "metadata": {},
   "source": [
    "## Target Feature"
   ]
  }
 ],
 "metadata": {
  "kernelspec": {
   "display_name": "Python 3 (ipykernel)",
   "language": "python",
   "name": "python3"
  },
  "language_info": {
   "codemirror_mode": {
    "name": "ipython",
    "version": 3
   },
   "file_extension": ".py",
   "mimetype": "text/x-python",
   "name": "python",
   "nbconvert_exporter": "python",
   "pygments_lexer": "ipython3",
   "version": "3.8.12"
  }
 },
 "nbformat": 4,
 "nbformat_minor": 5
}

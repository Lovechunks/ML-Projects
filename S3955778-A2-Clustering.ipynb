{
 "cells": [
  {
   "cell_type": "markdown",
   "metadata": {
    "pycharm": {
     "name": "#%% md\n"
    }
   },
   "source": [
    "# Clustering (15 points):\n",
    "Each item is worth 3 points.\n",
    "\n",
    "For each question that asks to implement a function, implement it in the top cell where it is defined and then execute the function in the code cell provided below the question. <br>\n",
    "You should base your answers on the output.<br>\n",
    "You are allowed to implement and use additional functions. These would be defined and implemented in the\n",
    "cell directly below the questions they were implemented for.\n",
    "\n",
    "All the textual answers should be based on and justified with output from the data in the code cell above.<br>\n",
    "For example, if the question asks about the correlation value, the code calculating it should appear above the answer, and the value should be in the output.\n",
    "The answers should be concise and written in your own words.\n",
    "\n",
    "### <span style=\"color:red\">Do Not Modify the Structure of this Notebook, don't add/remove/move cells or change their type (Code/Markdown) </span>\n",
    "\n",
    "1. [Read the feather files 'TrainQuestionsDF.feather.zstd' and 'TestQuestionsDF.feather.zstd' into pandas dataframes named train_df and test_df respectively. <br>Then convert the 'Title' column of each of them into a tf-idf vector, make sure to create the vocabulary only with the train_df, then use the same fitted TfidfVectorizer object to transform the Title column in test_df.](#q1)\n",
    "<br><br>\n",
    "2. [Implement the functions `kmeans_clustering(X, **kmean_kwargs)` and `dbscan_clustering(train_tfidf_vec, **dbscan_kwargs)`. <br>Each function should return the clustering model (object) and the clustering labels. Make sure to use the ***RANDOM_SEED*** for the KMeans model instantiation. <br>Then use the train and test tf-idf vectors to cluster the data using the default values for each clustering model.](#q2)\n",
    "<br><br>\n",
    "3. [Use the function `plot_k_distance_graph(X, k)` with the test tf-idf vectors and set k=20. <br>Answer the following questions based on the plot with regard to the DBSCAN algorithm.](#q3)\n",
    "<br><br>\n",
    "4. [Implement the function `plot_wcss_graph(dataset, k_range, **kmean_kwargs)` and call it with the train data title features and `k_range=range(3, 15)`.](#q4)\n",
    "<br><br>\n",
    "5. [Implement the function `plot_v_measure_graph(dataset, k_range, y_true, **kmean_kwargs)` and call it with the train data title features and `k_range=range(3, 15)`.](#q5)"
   ]
  },
  {
   "cell_type": "code",
   "execution_count": 1,
   "metadata": {
    "pycharm": {
     "name": "#%%\n"
    }
   },
   "outputs": [],
   "source": [
    "import matplotlib.pyplot as plt\n",
    "import numpy as np\n",
    "import pandas as pd\n",
    "from sklearn.cluster import DBSCAN, MiniBatchKMeans, KMeans\n",
    "from sklearn.feature_extraction.text import TfidfVectorizer\n",
    "from sklearn.metrics import silhouette_score, v_measure_score\n",
    "from sklearn.neighbors import NearestNeighbors"
   ]
  },
  {
   "cell_type": "code",
   "execution_count": 2,
   "metadata": {
    "pycharm": {
     "name": "#%%\n"
    }
   },
   "outputs": [],
   "source": [
    "# TODO: Any additional (if needed) import statements should be in this cell"
   ]
  },
  {
   "cell_type": "code",
   "execution_count": 3,
   "metadata": {
    "pycharm": {
     "name": "#%%\n"
    }
   },
   "outputs": [],
   "source": [
    "# TODO: Set the random seed as your student id (only numbers)\n",
    "RANDOM_SEED = 3955778\n",
    "np.random.seed(RANDOM_SEED)"
   ]
  },
  {
   "cell_type": "code",
   "execution_count": 4,
   "metadata": {
    "pycharm": {
     "name": "#%%\n"
    }
   },
   "outputs": [],
   "source": [
    "# This cell is for functions given to you to use\n",
    "\n",
    "plt.style.use('ggplot')\n",
    "\n",
    "\n",
    "def read_feather_to_df(feather_file_name):\n",
    "    \"\"\"\n",
    "    The function expects to receive a path to feather file,\n",
    "    it will read the file from the disk into a pandas dataframe\n",
    "    \"\"\"\n",
    "    return pd.read_feather(feather_file_name)\n",
    "\n",
    "\n",
    "def plot_k_distance_graph(X, k):\n",
    "    \"\"\"\n",
    "    The function receives a dataset expressed as numerical features and plots the k-distance graph for DBSCAN\n",
    "    :param X: ndarray, pd.DataFrame or a sparse matrix; data features\n",
    "    :param k: int; will plot the distances to the k'th nearest neighbor of each sample\n",
    "    :return: None\n",
    "    \"\"\"\n",
    "    # create a new instance of NearestNeighbors and assign to the variable nbrs\n",
    "    nbrs = NearestNeighbors(n_neighbors=k + 20)\n",
    "    # Fit the nearest neighbors estimator on the data\n",
    "    nbrs.fit(X)\n",
    "    # Find the \"n_neighbors\" nearest neighbors for every point, returns indices of and distances to the neighbors of each point in sorted order.\n",
    "    distances, indices = nbrs.kneighbors(X)\n",
    "    # remember that the index of the n-th element is n-1\n",
    "    k_distance = distances[:, k - 1]  # array with the distance of every n-th neighbour\n",
    "    k_distance = np.sort(k_distance)  # sort in ascending order\n",
    "\n",
    "    plt.figure(figsize=(15, 10))  # create and define the figure\n",
    "    plt.plot(k_distance)\n",
    "    plt.title(f\"{k}-distance graph for DBSCAN\")\n",
    "    plt.ylabel(\"$\\epsilon$ distance\")\n",
    "    plt.xlabel(\"number of core points\")\n",
    "    plt.gca().invert_xaxis()  # gca used to get current axes, then invert_xaxis() will invert the x axis\n",
    "    plt.grid(True)  # add grid to the plot\n",
    "    plt.show()"
   ]
  },
  {
   "cell_type": "code",
   "execution_count": 5,
   "metadata": {
    "pycharm": {
     "name": "#%%\n"
    }
   },
   "outputs": [],
   "source": [
    "# This cell is for all the functions you are expected to implement.\n",
    "# You should implement them here and only call them below when they are mentioned in a question.\n",
    "\n",
    "def select_numeric_non_id_columns(df):\n",
    "    \"\"\"\n",
    "    Return a subset of a DataFrame’s columns based on the column dtypes,\n",
    "    including only numerical columns and excluding columns with the string id (case-insensitive) in their name\n",
    "    :param df: pd.DataFrame\n",
    "    :return: pd.DataFrame\n",
    "    \"\"\"\n",
    "    Z = (df.select_dtypes(include=['int64'], exclude=[\"string\"])).drop('Id',axis=1)\n",
    "    \n",
    "    return Z\n",
    "\n",
    "\n",
    "def series_to_tfidf(sr, **kwargs):\n",
    "    \"\"\"\n",
    "    The function receives an array or a pandas Series that contains text strings (a.k.a documents).\n",
    "    It then converts the documents into a matrix of TF-IDF features\n",
    "    The function should return two objects:\n",
    "    TfidfVectorizer object after it learned (fitted) the vocabulary and idf from the training set,\n",
    "    and a document-term matrix (the original documents array transformed into a TF-IDF features matrix).\n",
    "    \"\"\"\n",
    "    # TODO: write your code here\n",
    "    pass\n",
    "\n",
    "\n",
    "def kmeans_clustering(X, **kmean_kwargs):\n",
    "    \"\"\"\n",
    "    The function receives a dataset expressed as numerical features, clusters the data and returns the\n",
    "    fitted clustering model and the cluster labels for the data.\n",
    "    First test if the number of samples in the dataset is larger or equal to 10,000,\n",
    "    if it is: use the class MiniBatchKMeans(random_state=RANDOM_SEED, batch_size=2048, **kmean_kwargs)\n",
    "    it the number of samples is less than 10K, use the class KMeans(random_state=RANDOM_SEED, **kmean_kwargs)\n",
    "    Add a print call that will indicate which model was used.\n",
    "    :param X: ndarray, pd.DataFrame or a sparse matrix; data features\n",
    "    :param kmean_kwargs: key-word arguments that will be passed to kmeans clustering class\n",
    "    :return: two objects, the fitted clustering object and the cluster labels for the data\n",
    "    \"\"\"\n",
    "    # TODO: write your code here\n",
    "    pass\n",
    "\n",
    "\n",
    "def dbscan_clustering(X, **dbscan_kwargs):\n",
    "    \"\"\"\n",
    "    The function receives a dataset expressed as numerical features, clusters the data and returns the\n",
    "    fitted clustering model and the cluster labels for the data.\n",
    "    :param X: ndarray, pd.DataFrame or a sparse matrix; data features\n",
    "    :param dbscan_kwargs: key-word arguments that will be passed to dbscan clustering class\n",
    "    :return: two objects, the fitted clustering object and the cluster labels for the data\n",
    "    \"\"\"\n",
    "    # TODO: write your code here\n",
    "    pass\n",
    "\n",
    "\n",
    "def plot_wcss_graph(dataset, k_range=range(3, 15), **kmean_kwargs):\n",
    "    \"\"\"\n",
    "    The function receives a dataset expressed as numerical features and plots the WCSS (a.k.a inertia) graph\n",
    "    using K-Means clustering over a range of K values.\n",
    "    The y-axis of the graph represents WCSS (inertia) and x-axis the number of clusters.\n",
    "    The plot should be readable and have proper title and labels.\n",
    "    You should use the function `kmeans_clustering`.\n",
    "    :param dataset: ndarray, pd.DataFrame or a sparse matrix; data features\n",
    "    :param k_range: an iterable object, e.g. list, tuple, range, etc.\n",
    "    :param kmean_kwargs: key-word arguments that will be passed to kmeans clustering class\n",
    "    \"\"\"\n",
    "    # TODO: write your code here\n",
    "    pass\n",
    "\n",
    "\n",
    "def plot_v_measure_graph(dataset, y_true, k_range=range(3, 15), **kmean_kwargs):\n",
    "    \"\"\"\n",
    "    The function receives a dataset expressed as numerical features and plots the V-measure graph\n",
    "    using K-Means clustering over a range of K values.\n",
    "    The y-axis of the graph represents V-measure and x-axis the number of clusters.\n",
    "    The plot should be readable and have proper title and labels.\n",
    "    You should use the function `kmeans_clustering` and sklearn's v_measure_score() to calculate the V-measure values.\n",
    "    :param dataset: ndarray, pd.DataFrame or a sparse matrix; data features\n",
    "    :param k_range: an iterable object, e.g. list, tuple, range, etc.\n",
    "    :param y_true: array-like; ground truth class labels\n",
    "    :param kmean_kwargs: key-word arguments that will be passed to kmeans clustering class\n",
    "    \"\"\"\n",
    "    # TODO: write your code here\n",
    "    pass\n",
    "\n",
    "\n",
    "def plot_silhouette_coefficient_graph(dataset, k_range=range(3, 15), **kmean_kwargs):\n",
    "    \"\"\"\n",
    "    The function receives a dataset expressed as numerical features and plots the silhouette coefficient graph\n",
    "    using K-Means clustering over a range of K values.\n",
    "    The y-axis of the graph represents silhouette coefficient and x-axis the number of clusters.\n",
    "    The plot should be readable and have proper title and labels.\n",
    "    You should use the function `kmeans_clustering`.\n",
    "    :param dataset: ndarray, pd.DataFrame or a sparse matrix; data features\n",
    "    :param k_range: an iterable object, e.g. list, tuple, range, etc.\n",
    "    :param kmean_kwargs: key-word arguments that will be passed to kmeans clustering class\n",
    "    \"\"\"\n",
    "    # TODO: write your code here\n",
    "    pass"
   ]
  },
  {
   "cell_type": "markdown",
   "metadata": {
    "pycharm": {
     "name": "#%% md\n"
    }
   },
   "source": [
    "### <a name=\"q1\"></a> 1. Read the feather files 'TrainQuestionsDF.feather.zstd' and 'TestQuestionsDF.feather.zstd' into pandas dataframes named train_df and test_df respectively. <br>Then convert the 'Title' column of each of them into a tf-idf vector, make sure to create the vocabulary only with the train_df, then use the same fitted TfidfVectorizer object to transform the Title column in test_df.<br>Answer the following questions below: <br>1.1 What is the shape of the generated tf-idf objects? <br>1.2 What is the size of the generated vocabulary?"
   ]
  },
  {
   "cell_type": "code",
   "execution_count": 6,
   "metadata": {
    "pycharm": {
     "name": "#%%\n"
    }
   },
   "outputs": [
    {
     "name": "stdout",
     "output_type": "stream",
     "text": [
      "(4447,)\n",
      "4447\n"
     ]
    }
   ],
   "source": [
    "train_df = read_feather_to_df('TrainQuestionsDF.feather.zstd')\n",
    "test_df = read_feather_to_df('TestQuestionsDF.feather.zstd')\n",
    "\n",
    "vectorizer = TfidfVectorizer()\n",
    "train_df['Title'] = vectorizer.fit_transform(train_df['Title']).getnnz()\n",
    "test_df['Title'] = vectorizer.fit_transform(test_df['Title']).getnnz()\n",
    "\n",
    "train_df = select_numeric_non_id_columns(train_df)\n",
    "test_df = select_numeric_non_id_columns(test_df)\n",
    "\n",
    "print(vectorizer.get_feature_names_out().shape)\n",
    "\n",
    "print(vectorizer.get_feature_names_out().size)\n",
    "\n"
   ]
  },
  {
   "cell_type": "markdown",
   "metadata": {
    "pycharm": {
     "name": "#%% md\n"
    }
   },
   "source": [
    "*Write your answers to 1 here (1-2 sentences per item):*\n"
   ]
  },
  {
   "cell_type": "markdown",
   "metadata": {
    "pycharm": {
     "name": "#%% md\n"
    }
   },
   "source": [
    "## Intrinsic clustering evaluation\n",
    "### <a name=\"q2\"></a> 2. Implement the functions `kmeans_clustering(X, **kmean_kwargs)` and `dbscan_clustering(X, **dbscan_kwargs)`. <br>Each function should return the clustering model (object) and the clustering labels. Make sure to use the RANDOM_SEED for the KMeans model instantiation. <br>Then use the train and test tf-idf vectors to cluster the data using the default values for each clustering model. <br>Answer the following questions: <br>2.1 How many clusters were formed for the train data using each clustering method? <br>2.2 Which method achieved a result closer to the actual number of labels? justify you answer with the data <br>2.3 Propose a short possible explanation to the observed outcome in 2.2"
   ]
  },
  {
   "cell_type": "code",
   "execution_count": 7,
   "metadata": {
    "pycharm": {
     "name": "#%%\n"
    }
   },
   "outputs": [
    {
     "name": "stdout",
     "output_type": "stream",
     "text": [
      "{0, 1, 2, 3, 4, 5, 6, 7}\n",
      "{-1}\n"
     ]
    }
   ],
   "source": [
    "#Kmeans\n",
    "\n",
    "kmeans = KMeans(random_state=RANDOM_SEED).fit(train_df)\n",
    "\n",
    "print(set(kmeans.labels_))\n",
    "\n",
    "#DB_Scan\n",
    "\n",
    "clusters = DBSCAN().fit(train_df)\n",
    "\n",
    "print(set(clusters.labels_))\n",
    "\n",
    "\n"
   ]
  },
  {
   "cell_type": "markdown",
   "metadata": {
    "pycharm": {
     "name": "#%% md\n"
    }
   },
   "source": [
    "* 2.1 Eight and none respectively, excluding the noise from DB_scan\n",
    "* 2.2 Kmeans achieved a closer result, it was only one off\n",
    "* 2.3 The data likely doesn't form any meaningful shape in cartesian space, the data is evenly spread out."
   ]
  },
  {
   "cell_type": "markdown",
   "metadata": {
    "pycharm": {
     "name": "#%% md\n"
    }
   },
   "source": [
    "### <a name=\"q3\"></a> 3. Use the function `plot_k_distance_graph(X, k)` with the test tf-idf vectors and set k=20. <br>Answer the following questions based on the plot with regard to the DBSCAN algorithm: <br> 3.1 What should be a good epsilon value for this data? <br>3.2 From which epsilon values would DBSCAN likely result with all the samples in the same cluster? <br>3.3 From which epsilon values would DBSCAN likely result with most of the samples as outliers?"
   ]
  },
  {
   "cell_type": "code",
   "execution_count": 8,
   "metadata": {
    "pycharm": {
     "name": "#%%\n"
    }
   },
   "outputs": [
    {
     "data": {
      "image/png": "[encoded data removed]",
      "text/plain": [
       "<Figure size 1080x720 with 1 Axes>"
      ]
     },
     "metadata": {},
     "output_type": "display_data"
    }
   ],
   "source": [
    "plot_k_distance_graph(test_df, 20)"
   ]
  },
  {
   "cell_type": "markdown",
   "metadata": {
    "pycharm": {
     "name": "#%% md\n"
    }
   },
   "source": [
    "* 3.1 I'm ignorant on how to eactly interpret the scale of the y axis but optimal eps would be at the elbow point so just under 50000 (.48 perhaps?)\n",
    "* 3.2 eps = 1\n",
    "* 3.3 eps = .1"
   ]
  },
  {
   "cell_type": "markdown",
   "metadata": {
    "pycharm": {
     "name": "#%% md\n"
    }
   },
   "source": [
    "### <a name=\"q4\"></a> 4. Implement the function `plot_wcss_graph(dataset, k_range, **kwargs)` and call it with the train data title features and `k_range=range(3, 15)` then answer the following questions:<br> 4.1 Based on the plot, using the \"elbow method\" which numbers are suitable candidates as a good number of clusters? <br>4.2 Which number of clusters will minimize the WCSS? <br>4.3 What is the rational of the elbow method? Which number of clusters will minimize the WCSS?"
   ]
  },
  {
   "cell_type": "code",
   "execution_count": 9,
   "metadata": {
    "pycharm": {
     "name": "#%%\n"
    }
   },
   "outputs": [
    {
     "data": {
      "image/png": "[encoded data removed]",
      "text/plain": [
       "<Figure size 432x288 with 1 Axes>"
      ]
     },
     "metadata": {},
     "output_type": "display_data"
    }
   ],
   "source": [
    "kmeans_kwargs = {\n",
    "\"init\": \"random\",\n",
    "\"n_init\": 15,\n",
    "\"random_state\": RANDOM_SEED,\n",
    "}\n",
    "\n",
    "sse = []\n",
    "for k in range(3, 15):\n",
    "    kmeans = KMeans(n_clusters=k, **kmeans_kwargs)\n",
    "    kmeans.fit(train_df)\n",
    "    sse.append(kmeans.inertia_)\n",
    "    \n",
    "\n",
    "plt.plot(range(3, 15), sse)\n",
    "plt.xticks(range(3, 15))\n",
    "plt.xlabel(\"Number of Clusters\")\n",
    "plt.ylabel(\"SSE\")\n",
    "plt.show()"
   ]
  },
  {
   "cell_type": "markdown",
   "metadata": {
    "pycharm": {
     "name": "#%% md\n"
    }
   },
   "source": [
    "* 4.1 K= 7 or 8 seem best\n",
    "* 4.2 Seven, the number of labels there are\n",
    "* 4.3 The elbow method prevents any overfitting by indicating the point where diminishing returns become too costly. As th egraph flattens out increasing the value of K becomes meaningless."
   ]
  },
  {
   "cell_type": "markdown",
   "metadata": {
    "pycharm": {
     "name": "#%% md\n"
    }
   },
   "source": [
    "## Extrinsic clustering evaluation\n",
    "### <a name=\"q5\"></a> 5. Implement the function `plot_v_measure_graph(dataset, k_range, y_true)` and call it with the train data title features and `k_range=range(3, 15)` then answer the following questions:<br> 5.1 Based on the plot, which number of clusters yields the best result? <br>5.2 Compare the result of this extrinsic evaluation measure with the previous intrinsic evaluation results. What are the reasons choose one over the other?"
   ]
  },
  {
   "cell_type": "code",
   "execution_count": null,
   "metadata": {
    "pycharm": {
     "name": "#%%\n"
    },
    "scrolled": true
   },
   "outputs": [],
   "source": [
    "\n",
    "\n"
   ]
  },
  {
   "cell_type": "markdown",
   "metadata": {
    "pycharm": {
     "name": "#%% md\n"
    }
   },
   "source": [
    "*Write your answers to 5 here (1-2 sentences for the first item, up to 4 senteces for the second):*"
   ]
  }
 ],
 "metadata": {
  "kernelspec": {
   "display_name": "Python 3 (ipykernel)",
   "language": "python",
   "name": "python3"
  },
  "language_info": {
   "codemirror_mode": {
    "name": "ipython",
    "version": 3
   },
   "file_extension": ".py",
   "mimetype": "text/x-python",
   "name": "python",
   "nbconvert_exporter": "python",
   "pygments_lexer": "ipython3",
   "version": "3.8.12"
  }
 },
 "nbformat": 4,
 "nbformat_minor": 4
}

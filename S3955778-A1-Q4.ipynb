{
 "cells": [
  {
   "cell_type": "markdown",
   "id": "41a1c3ab",
   "metadata": {},
   "source": [
    "# A1 Problem 4 - Rename and Merge Exercise"
   ]
  },
  {
   "cell_type": "markdown",
   "id": "e74ffce2",
   "metadata": {},
   "source": [
    "Now that we have two aggregated dataframes for Comments and Answers that map to a Question, our final statistical challenge is to merge these two dataframes, combine the scores and find the questions with the highest aggregate scores overall. Note that there are two key problems to overcome, firstly one dataframe uses the column header 'ParentId' while the other uses 'PostId'. So we should rename 'ParentId' to 'PostId' in the Answers dataframe. The second problem is that both dataframes have the column 'Score'. But we can't have two columns in a single dataframe with the same key. So we should rename them to 'Answers-Score' and 'Comments-Score'. Once this is done, we can merge the two datafraes by PostId and create a new column called 'Total-Score' which contains the sum of the other two Score Columns. Once we have everything in place, we can sort based on Total-Score, and write out our new dataframe, along with a dump of the PostIds and Total Scores to a text file for a sanity check."
   ]
  },
  {
   "cell_type": "markdown",
   "id": "aadf950e",
   "metadata": {},
   "source": [
    "### Read a feather file and return a dataframe. This is already done for you. You just have to call it from main to convert a feather file into a dataframe."
   ]
  },
  {
   "cell_type": "code",
   "execution_count": 2,
   "id": "c8114d47",
   "metadata": {},
   "outputs": [],
   "source": [
    "import pyarrow.feather as feather\n",
    "import pandas as pd"
   ]
  },
  {
   "cell_type": "code",
   "execution_count": 3,
   "id": "5675ff81",
   "metadata": {},
   "outputs": [],
   "source": [
    "def arrow_to_df(input_file_name):\n",
    "    df = feather.read_feather(input_file_name)\n",
    "    return df"
   ]
  },
  {
   "cell_type": "markdown",
   "id": "08b68be9",
   "metadata": {},
   "source": [
    "### Write a feather file using a dataframe. This is done for you, you just need to call it."
   ]
  },
  {
   "cell_type": "code",
   "execution_count": 4,
   "id": "c154baf7",
   "metadata": {},
   "outputs": [],
   "source": [
    "def df_to_arrow(output_file_name, df):\n",
    "    feather.write_feather(df, output_file_name, compression='zstd')\n",
    "    return"
   ]
  },
  {
   "cell_type": "markdown",
   "id": "80bd4cc3",
   "metadata": {},
   "source": [
    "### This function will write out only the PostId and Total-Score columns from a dataframe. This assumes of course that you have named the columns correctly!"
   ]
  },
  {
   "cell_type": "code",
   "execution_count": 5,
   "id": "e7879fff",
   "metadata": {},
   "outputs": [],
   "source": [
    "def write_total_scores(df,out_file):\n",
    "    with open(out_file,'w') as f:\n",
    "        fdf = df[['PostId','Total-Score']].copy()\n",
    "        f.write(fdf.to_string(index=False))\n",
    "        return\n",
    "        "
   ]
  },
  {
   "cell_type": "markdown",
   "id": "f0f34cb8",
   "metadata": {},
   "source": [
    "### The sort function from Question 2."
   ]
  },
  {
   "cell_type": "code",
   "execution_count": 6,
   "id": "11ecb974",
   "metadata": {},
   "outputs": [],
   "source": [
    "def sort_df (df, key):\n",
    "    df = df.sort_values(by=key, ascending=False)\n",
    "    return df"
   ]
  },
  {
   "cell_type": "markdown",
   "id": "a4cec5b7",
   "metadata": {},
   "source": [
    "### Main Loop -- Hint of a structure:\n",
    "* First read the Answers-Sum.feather and Comments-Sum.feather files into dataframes using the provided function.\n",
    "* Now rename the columns as defined in the header above.\n",
    "* Once the header names are correct, you can merge based on 'PostId'.\n",
    "* Then, you can create a new column called 'Total-Score' that is the sum of the other two Score columns.\n",
    "* Sort the new dataframe using the sort function from Q2 based on 'Total-Score'.\n",
    "* Finally, you need to write_total_scores() for the new dataframe. The output file name should be \"Posts-Total-Scores.txt\". This will by our sanity check that you got the split function correct. Make sure you use the output file names exactly as shown (case sensitive).\n",
    "* We do not need to write out the final merged dataframe as a feather file as we won't need it for the final challenge."
   ]
  },
  {
   "cell_type": "code",
   "execution_count": 12,
   "id": "5341a6a2",
   "metadata": {},
   "outputs": [],
   "source": [
    "# Now we show the main wrapper that you should complete when\n",
    "# you finalise your assignment. A hint of the structure is above.\n",
    "def main(file1, file2):\n",
    "    \n",
    "    df1 = arrow_to_df(file1)\n",
    "    df2 = arrow_to_df(file2)\n",
    "    \n",
    "    df1.reset_index(inplace=True)\n",
    "    \n",
    "    df2.reset_index(inplace=True)\n",
    "    \n",
    "    df1 = df1.rename(columns = {\"ParentId\":\"PostId\", \"Score\":\"Answers-Score\"})\n",
    "    \n",
    "    df2 = df2.rename(columns = {\"Score\":\"Comments-Score\"})\n",
    "    \n",
    "    df3 = pd.merge(df1, df2, on = \"PostId\", how = \"inner\")\n",
    "    df3[\"Total-Score\"] = df3[\"Answers-Score\"] + df3[\"Comments-Score\"]\n",
    "    \n",
    "    df4 = sort_df(df3, 'Total-Score')\n",
    "    \n",
    "    write_total_scores(df4, \"Posts-Total-Scores.txt\" )\n",
    "    \n",
    "    return"
   ]
  },
  {
   "cell_type": "code",
   "execution_count": 13,
   "id": "624faa3e",
   "metadata": {},
   "outputs": [
    {
     "name": "stdout",
     "output_type": "stream",
     "text": [
      "[INFO]:Script completed with no errors\n"
     ]
    }
   ],
   "source": [
    "# Here is the definition of the \"main\" loop execution function shown\n",
    "# in Lectorial 2\n",
    "if __name__ == '__main__':\n",
    "    main('Answers-Sum.feather', 'Comments-Sum.feather')\n",
    "    print ('[INFO]:Script completed with no errors')"
   ]
  },
  {
   "cell_type": "code",
   "execution_count": null,
   "id": "fbf995b1",
   "metadata": {},
   "outputs": [],
   "source": []
  }
 ],
 "metadata": {
  "kernelspec": {
   "display_name": "Python 3",
   "language": "python",
   "name": "python3"
  },
  "language_info": {
   "codemirror_mode": {
    "name": "ipython",
    "version": 3
   },
   "file_extension": ".py",
   "mimetype": "text/x-python",
   "name": "python",
   "nbconvert_exporter": "python",
   "pygments_lexer": "ipython3",
   "version": "3.8.8"
  }
 },
 "nbformat": 4,
 "nbformat_minor": 5
}

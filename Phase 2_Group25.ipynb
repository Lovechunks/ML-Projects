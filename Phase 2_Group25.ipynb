{
 "cells": [
  {
   "cell_type": "markdown",
   "id": "b1e58e5c",
   "metadata": {},
   "source": [
    "# Predicting Red Wine Quality\n",
    "## Phase 2: Predictive Modeling\n",
    "### Group 25\n",
    "### Galen Ralph Herten-Crabb 3955778 \n",
    "---"
   ]
  },
  {
   "cell_type": "markdown",
   "id": "d4ba6fa6",
   "metadata": {},
   "source": [
    "### Contents\n",
    "\n",
    "* [Introduction](#intro)\n",
    "    * [Phase 1 Summary](#summary)\n",
    "    * [Report Overview](#report_overview)\n",
    "    * [Overview of Methodology](#methodology)\n",
    "* [Predictive Modelling](#modeling)\n",
    "    * [Feature Selection](#FS)\n",
    "    * [Model Fitting & Tuning](#fit)\n",
    "    * [Model Comparison](#comparison)\n",
    "* [Critique & Limitations](#critique)\n",
    "* [Summary & Conclusions](#con)\n",
    "    * [Project Summary](#PS)\n",
    "    * [Summary of Findings](#find)\n",
    "    * [Conclusions](#cons)\n",
    "* [References](#references)"
   ]
  },
  {
   "cell_type": "code",
   "execution_count": 1,
   "id": "2a32d92d",
   "metadata": {},
   "outputs": [],
   "source": [
    "import warnings\n",
    "warnings.filterwarnings(\"ignore\")\n",
    "\n",
    "import numpy as np\n",
    "import pandas as pd\n",
    "import io\n",
    "import requests\n",
    "import matplotlib.pyplot as plt\n",
    "import sklearn.metrics as metrics\n",
    "from sklearn.model_selection import cross_val_score, RepeatedStratifiedKFold, GridSearchCV \n",
    "from sklearn.ensemble import RandomForestClassifier\n",
    "from sklearn import preprocessing\n",
    "from sklearn import feature_selection as fs\n",
    "from sklearn.tree import DecisionTreeClassifier\n",
    "from sklearn.pipeline import Pipeline\n",
    "from sklearn.neighbors import KNeighborsClassifier\n",
    "from sklearn.feature_selection import SelectKBest, f_classif, mutual_info_classif\n",
    "from sklearn.model_selection import train_test_split\n",
    "from sklearn.naive_bayes import GaussianNB\n",
    "from sklearn.preprocessing import PowerTransformer\n",
    "from scipy import stats"
   ]
  },
  {
   "cell_type": "markdown",
   "id": "02ae5be5",
   "metadata": {},
   "source": [
    "## Introduction <a id = 'intro'></a>\n",
    "The goal of this project is to determine the quality of red wine from the collated quantities of its chemical characteristics before it is assessed by tasters or the market. Specifically, this report seeks to reliably detect high quality wine over lower qualities so that a vintner or merchant may predict sales price, and therefore ROI or change agricultural processes ahead of time to ensure the optimal balance. Put simply the aim is.\n",
    "1. Predict the quality of red wine e.g., predict whether red wine is of a high or low quality.\n",
    "2. Identify the chemical features and/or combination of features that determine red wine quality. \n",
    "\n"
   ]
  },
  {
   "cell_type": "markdown",
   "id": "b8634d8b",
   "metadata": {},
   "source": [
    "### Phase 1 Summary <a id = 'summary'></a>\n",
    "\n",
    "The dataset for this project is sourced from the University of California, School of Information and Computer Science Machine Learning Repository (Cortez et al., 2009). Its contents pertain to the quantitative chemical characteristics and qualitative assessments of nearly 1600 different red wines of the Portuguese \"Vinho Verde\" varietal. The first phase consisted of many pre-processing and exploration steps, including the selection of a target feature, and the identification of some possibly key descriptive features. The goal, as stated above, is to successfully predict the quality of red wine from the analysis of its chemical components and quantities, this will be achieved by using ML algorithms to predict the ‘Quality’ variable from the dataset, this variable is out target.\n",
    "\n",
    "During the pre-processing phase, few cleaning measures were required as the dataset came in excellent condition with no missing or special values. The only technique used to prepare the data was to remove the spaces from the headers and replace them with underscores.\n",
    "\n",
    "Data visualisations were then employed to further an understanding of the variables and their characteristics. The alcohol and citric acid variables were tested for correlation and were found to be strong indicators of quality, although not absolutely and within limits. It was concluded that low alcohol combined with low citric acid were indicative of poor-quality red wine but that these quantities in reverse were no guarantee of the opposite.\n",
    "\n",
    "\n"
   ]
  },
  {
   "cell_type": "markdown",
   "id": "37ba7f16",
   "metadata": {},
   "source": [
    "### Report Overview <a id = 'report_overview'></a>\n",
    "\n",
    "Phase 2 shall consist of fitting exactly three different algorithms to our data to determine the most accurate model. This process begins with feature selection and then proceeds to fit the different models to the data while tuning them to optimal levels, or at least to as optimal a level as each model can achieve. The models will be compared, and their respective strengths critiqued. Following these steps, will be a thorough examination of the methods used ending in a summary of the entire project including any conclusions regarding results and the specific issues encountered on the way to achieving this project’s goal.\n",
    "\n",
    "A note on the target variable. In the original dataset the quality column represented the target but as this report is concerned with the detection of high-quality wines that variable has been categorised into two measures. Namely, Low_Quality - defined as having a score between 3 and 6, and High_Quality - defined as having a quality score of either 7 or 8. The range of the quality variable is only between 3 and 8 as each score represents the mean of three separate tastings marked out of 10.\n"
   ]
  },
  {
   "cell_type": "code",
   "execution_count": 2,
   "id": "59f5bc49",
   "metadata": {
    "scrolled": true
   },
   "outputs": [
    {
     "data": {
      "text/html": [
       "<div>\n",
       "<style scoped>\n",
       "    .dataframe tbody tr th:only-of-type {\n",
       "        vertical-align: middle;\n",
       "    }\n",
       "\n",
       "    .dataframe tbody tr th {\n",
       "        vertical-align: top;\n",
       "    }\n",
       "\n",
       "    .dataframe thead th {\n",
       "        text-align: right;\n",
       "    }\n",
       "</style>\n",
       "<table border=\"1\" class=\"dataframe\">\n",
       "  <thead>\n",
       "    <tr style=\"text-align: right;\">\n",
       "      <th></th>\n",
       "      <th>fixed_acidity</th>\n",
       "      <th>volatile_acidity</th>\n",
       "      <th>citric_acid</th>\n",
       "      <th>residual_sugar</th>\n",
       "      <th>chlorides</th>\n",
       "      <th>free_sulfur_dioxide</th>\n",
       "      <th>total_sulfur_dioxide</th>\n",
       "      <th>density</th>\n",
       "      <th>pH</th>\n",
       "      <th>sulphates</th>\n",
       "      <th>alcohol</th>\n",
       "      <th>target</th>\n",
       "    </tr>\n",
       "  </thead>\n",
       "  <tbody>\n",
       "    <tr>\n",
       "      <th>797</th>\n",
       "      <td>9.3</td>\n",
       "      <td>0.370</td>\n",
       "      <td>0.44</td>\n",
       "      <td>1.6</td>\n",
       "      <td>0.038</td>\n",
       "      <td>21.0</td>\n",
       "      <td>42.0</td>\n",
       "      <td>0.99526</td>\n",
       "      <td>3.24</td>\n",
       "      <td>0.81</td>\n",
       "      <td>10.8</td>\n",
       "      <td>High_Quality</td>\n",
       "    </tr>\n",
       "    <tr>\n",
       "      <th>1332</th>\n",
       "      <td>8.4</td>\n",
       "      <td>0.390</td>\n",
       "      <td>0.10</td>\n",
       "      <td>1.7</td>\n",
       "      <td>0.075</td>\n",
       "      <td>6.0</td>\n",
       "      <td>25.0</td>\n",
       "      <td>0.99581</td>\n",
       "      <td>3.09</td>\n",
       "      <td>0.43</td>\n",
       "      <td>9.7</td>\n",
       "      <td>Low_Quality</td>\n",
       "    </tr>\n",
       "    <tr>\n",
       "      <th>152</th>\n",
       "      <td>7.5</td>\n",
       "      <td>0.600</td>\n",
       "      <td>0.03</td>\n",
       "      <td>1.8</td>\n",
       "      <td>0.095</td>\n",
       "      <td>25.0</td>\n",
       "      <td>99.0</td>\n",
       "      <td>0.99500</td>\n",
       "      <td>3.35</td>\n",
       "      <td>0.54</td>\n",
       "      <td>10.1</td>\n",
       "      <td>Low_Quality</td>\n",
       "    </tr>\n",
       "    <tr>\n",
       "      <th>1426</th>\n",
       "      <td>7.7</td>\n",
       "      <td>0.230</td>\n",
       "      <td>0.37</td>\n",
       "      <td>1.8</td>\n",
       "      <td>0.046</td>\n",
       "      <td>23.0</td>\n",
       "      <td>60.0</td>\n",
       "      <td>0.99710</td>\n",
       "      <td>3.41</td>\n",
       "      <td>0.71</td>\n",
       "      <td>12.1</td>\n",
       "      <td>Low_Quality</td>\n",
       "    </tr>\n",
       "    <tr>\n",
       "      <th>38</th>\n",
       "      <td>5.7</td>\n",
       "      <td>1.130</td>\n",
       "      <td>0.09</td>\n",
       "      <td>1.5</td>\n",
       "      <td>0.172</td>\n",
       "      <td>7.0</td>\n",
       "      <td>19.0</td>\n",
       "      <td>0.99400</td>\n",
       "      <td>3.50</td>\n",
       "      <td>0.48</td>\n",
       "      <td>9.8</td>\n",
       "      <td>Low_Quality</td>\n",
       "    </tr>\n",
       "    <tr>\n",
       "      <th>75</th>\n",
       "      <td>8.8</td>\n",
       "      <td>0.410</td>\n",
       "      <td>0.64</td>\n",
       "      <td>2.2</td>\n",
       "      <td>0.093</td>\n",
       "      <td>9.0</td>\n",
       "      <td>42.0</td>\n",
       "      <td>0.99860</td>\n",
       "      <td>3.54</td>\n",
       "      <td>0.66</td>\n",
       "      <td>10.5</td>\n",
       "      <td>Low_Quality</td>\n",
       "    </tr>\n",
       "    <tr>\n",
       "      <th>1211</th>\n",
       "      <td>6.6</td>\n",
       "      <td>0.440</td>\n",
       "      <td>0.15</td>\n",
       "      <td>2.1</td>\n",
       "      <td>0.076</td>\n",
       "      <td>22.0</td>\n",
       "      <td>53.0</td>\n",
       "      <td>0.99570</td>\n",
       "      <td>3.32</td>\n",
       "      <td>0.62</td>\n",
       "      <td>9.3</td>\n",
       "      <td>Low_Quality</td>\n",
       "    </tr>\n",
       "    <tr>\n",
       "      <th>154</th>\n",
       "      <td>7.1</td>\n",
       "      <td>0.430</td>\n",
       "      <td>0.42</td>\n",
       "      <td>5.5</td>\n",
       "      <td>0.070</td>\n",
       "      <td>29.0</td>\n",
       "      <td>129.0</td>\n",
       "      <td>0.99730</td>\n",
       "      <td>3.42</td>\n",
       "      <td>0.72</td>\n",
       "      <td>10.5</td>\n",
       "      <td>Low_Quality</td>\n",
       "    </tr>\n",
       "    <tr>\n",
       "      <th>1549</th>\n",
       "      <td>7.4</td>\n",
       "      <td>0.360</td>\n",
       "      <td>0.30</td>\n",
       "      <td>1.8</td>\n",
       "      <td>0.074</td>\n",
       "      <td>17.0</td>\n",
       "      <td>24.0</td>\n",
       "      <td>0.99419</td>\n",
       "      <td>3.24</td>\n",
       "      <td>0.70</td>\n",
       "      <td>11.4</td>\n",
       "      <td>High_Quality</td>\n",
       "    </tr>\n",
       "    <tr>\n",
       "      <th>901</th>\n",
       "      <td>7.4</td>\n",
       "      <td>0.635</td>\n",
       "      <td>0.10</td>\n",
       "      <td>2.4</td>\n",
       "      <td>0.080</td>\n",
       "      <td>16.0</td>\n",
       "      <td>33.0</td>\n",
       "      <td>0.99736</td>\n",
       "      <td>3.58</td>\n",
       "      <td>0.69</td>\n",
       "      <td>10.8</td>\n",
       "      <td>High_Quality</td>\n",
       "    </tr>\n",
       "  </tbody>\n",
       "</table>\n",
       "</div>"
      ],
      "text/plain": [
       "      fixed_acidity  volatile_acidity  citric_acid  residual_sugar  chlorides  \\\n",
       "797             9.3             0.370         0.44             1.6      0.038   \n",
       "1332            8.4             0.390         0.10             1.7      0.075   \n",
       "152             7.5             0.600         0.03             1.8      0.095   \n",
       "1426            7.7             0.230         0.37             1.8      0.046   \n",
       "38              5.7             1.130         0.09             1.5      0.172   \n",
       "75              8.8             0.410         0.64             2.2      0.093   \n",
       "1211            6.6             0.440         0.15             2.1      0.076   \n",
       "154             7.1             0.430         0.42             5.5      0.070   \n",
       "1549            7.4             0.360         0.30             1.8      0.074   \n",
       "901             7.4             0.635         0.10             2.4      0.080   \n",
       "\n",
       "      free_sulfur_dioxide  total_sulfur_dioxide  density    pH  sulphates  \\\n",
       "797                  21.0                  42.0  0.99526  3.24       0.81   \n",
       "1332                  6.0                  25.0  0.99581  3.09       0.43   \n",
       "152                  25.0                  99.0  0.99500  3.35       0.54   \n",
       "1426                 23.0                  60.0  0.99710  3.41       0.71   \n",
       "38                    7.0                  19.0  0.99400  3.50       0.48   \n",
       "75                    9.0                  42.0  0.99860  3.54       0.66   \n",
       "1211                 22.0                  53.0  0.99570  3.32       0.62   \n",
       "154                  29.0                 129.0  0.99730  3.42       0.72   \n",
       "1549                 17.0                  24.0  0.99419  3.24       0.70   \n",
       "901                  16.0                  33.0  0.99736  3.58       0.69   \n",
       "\n",
       "      alcohol        target  \n",
       "797      10.8  High_Quality  \n",
       "1332      9.7   Low_Quality  \n",
       "152      10.1   Low_Quality  \n",
       "1426     12.1   Low_Quality  \n",
       "38        9.8   Low_Quality  \n",
       "75       10.5   Low_Quality  \n",
       "1211      9.3   Low_Quality  \n",
       "154      10.5   Low_Quality  \n",
       "1549     11.4  High_Quality  \n",
       "901      10.8  High_Quality  "
      ]
     },
     "execution_count": 2,
     "metadata": {},
     "output_type": "execute_result"
    }
   ],
   "source": [
    "df = pd.read_csv('winequality-red.csv', sep=';') #read in the data\n",
    "df.columns = df.columns.map(lambda x : x.replace(\"-\", \"_\").replace(\" \", \"_\")) #snake the headers \n",
    "df['target'] = pd.cut(x=df['quality'], bins=[3, 6, 8,], labels=['Low_Quality', 'High_Quality']) #bin the target \n",
    "df = df.drop(['quality'], axis=1) #drop original target 'quality'\n",
    "df.sample(10, random_state=9999)"
   ]
  },
  {
   "cell_type": "code",
   "execution_count": 3,
   "id": "740969d4",
   "metadata": {},
   "outputs": [
    {
     "data": {
      "text/plain": [
       "Low_Quality     1372\n",
       "High_Quality     217\n",
       "Name: target, dtype: int64"
      ]
     },
     "execution_count": 3,
     "metadata": {},
     "output_type": "execute_result"
    }
   ],
   "source": [
    "df['target'].value_counts()"
   ]
  },
  {
   "cell_type": "markdown",
   "id": "3f6d477f",
   "metadata": {},
   "source": [
    "### Overview of Methodology <a id = 'methodology'></a>\n",
    "\n",
    "As the problem involves classifying a binary target this reports strategy shall involve the use of Decision Trees, K-Nearest Neighbours and Gaussian Naive Bayes classifiers. The data shall endure further processing in the form of encoding the categorical target into numerical values (0 & 1) and the scaling of all descriptive variables before being divided into test and train sets at a ratio of 70:30\n",
    "\n",
    "Feature selection shall occur, utilising the F-Score classification method, but the initial phase of fitting shall use the entire suite of variables to explore all possible relationships. This fitting process will include using grid search cross validation to fine tune the parameters along with the Repeated Stratified K-Fold validator.  After this initial, full set  fitting process the models shall be compared, this time with feature selection built into pipelines designed to assess each algorithm using the afore mentioned cross validation techniques again.\n",
    "\n",
    "The final examination, once optimal hyper-parameter values have been determined, is paired t-tests to determine if performance difference is statistically significant or not. "
   ]
  },
  {
   "cell_type": "markdown",
   "id": "3303e58c",
   "metadata": {},
   "source": [
    "## Predictive Modelling <a id = 'modeling'></a>"
   ]
  },
  {
   "cell_type": "markdown",
   "id": "b622267c",
   "metadata": {},
   "source": [
    "### Feature Selection <a id = 'FS'></a>\n",
    "\n",
    "Before feature selection some minor preprocessing steps are taken. The first step is to split the data set between descriptive features and target feature, then scale the descriptive features so that they exist between 0 and 1.\n"
   ]
  },
  {
   "cell_type": "code",
   "execution_count": 4,
   "id": "43a2dfda",
   "metadata": {},
   "outputs": [],
   "source": [
    "Data = df.drop(columns = 'target').values\n",
    "target = df['target']\n",
    "Data = preprocessing.MinMaxScaler().fit_transform(Data)\n",
    "target = preprocessing.LabelEncoder().fit_transform(target)"
   ]
  },
  {
   "cell_type": "markdown",
   "id": "49eb2c7b",
   "metadata": {},
   "source": [
    "The below chunk calls the f_classif function wraped in the SelectKBest function, K being equal to 5. This will select the best 5 variables in the dataset based on their F-Scores. \n",
    "Next the F-scores are placed into an array and visualised using matplotlib."
   ]
  },
  {
   "cell_type": "code",
   "execution_count": 5,
   "id": "9e5f7281",
   "metadata": {},
   "outputs": [
    {
     "data": {
      "text/plain": [
       "array(['alcohol', 'volatile_acidity', 'citric_acid', 'sulphates',\n",
       "       'density'], dtype=object)"
      ]
     },
     "execution_count": 5,
     "metadata": {},
     "output_type": "execute_result"
    }
   ],
   "source": [
    "fscore = fs.SelectKBest(fs.f_classif, k=5)\n",
    "fscore.fit_transform(Data, target)\n",
    "fscore_by_feature = np.argsort(np.nan_to_num(fscore.scores_))[::-1][0:5] #ensures the process deals with 0s and nan\n",
    "best = df.columns[fscore_by_feature].values\n",
    "best"
   ]
  },
  {
   "cell_type": "code",
   "execution_count": 6,
   "id": "4cf6c507",
   "metadata": {},
   "outputs": [
    {
     "data": {
      "text/plain": [
       "array([159.28427841,  84.42672242,  39.58278104,  34.13439624,\n",
       "        19.02481566])"
      ]
     },
     "execution_count": 6,
     "metadata": {},
     "output_type": "execute_result"
    }
   ],
   "source": [
    "importances = fscore.scores_[fscore_by_feature]\n",
    "importances"
   ]
  },
  {
   "cell_type": "code",
   "execution_count": 7,
   "id": "d03936d5",
   "metadata": {},
   "outputs": [
    {
     "data": {
      "image/png": "[encoded data removed]",
      "text/plain": [
       "<Figure size 432x288 with 1 Axes>"
      ]
     },
     "metadata": {
      "needs_background": "light"
     },
     "output_type": "display_data"
    }
   ],
   "source": [
    "plt.bar(best, importances, color ='green',\n",
    "        width = 0.4)\n",
    " \n",
    "plt.xlabel(\"Best Features\")\n",
    "plt.ylabel(\"Importances\")\n",
    "plt.title(\"F-Scores of Best Features\")\n",
    "plt.show()"
   ]
  },
  {
   "cell_type": "markdown",
   "id": "80ad115c",
   "metadata": {},
   "source": [
    "The above graph clearly indicates which features in the dataset have the closest relationship to the target."
   ]
  },
  {
   "cell_type": "markdown",
   "id": "89197d64",
   "metadata": {},
   "source": [
    "### Model Fitting & Tuning <a id = 'fit'></a>\n",
    "For the three different algorithms being tested the following are defined in the code. \n",
    "*  Cross validation method using 5 splits and 3 repeats \n",
    "*  The named classifier itself\n",
    "*  Classifiers unique hyper-parameters\n",
    "*  Final grid search function\n",
    "\n",
    "The GaussianNB algorithm requires the further step of normalising the descriptive data through power transformation. This method assumes normal data, so transformation is necessary\n",
    "\n",
    "Once these have been defined, queries can be run using the grid search functions to determine optimal parameters and the resulting accuracy score. \n",
    "\n",
    "Accuracy score shall remain the metric for determining the efficacy of models throughout this report.\n",
    "At the bottom of each section shall be a visualisation demonstrating the performance of each hyper-parameter.\n",
    "\n"
   ]
  },
  {
   "cell_type": "code",
   "execution_count": 8,
   "id": "54b1b48b",
   "metadata": {},
   "outputs": [],
   "source": [
    "D_train, D_test, t_train, t_test = train_test_split(Data, \n",
    "                                                    target, \n",
    "                                                    test_size = 0.3,\n",
    "                                                    random_state=999)"
   ]
  },
  {
   "cell_type": "code",
   "execution_count": 9,
   "id": "d01fb094",
   "metadata": {},
   "outputs": [],
   "source": [
    "cv_method = RepeatedStratifiedKFold(n_splits=5, \n",
    "                                    n_repeats=3, \n",
    "                                    random_state=999)"
   ]
  },
  {
   "cell_type": "markdown",
   "id": "dafa1c3c",
   "metadata": {},
   "source": [
    "#### Decision Tree"
   ]
  },
  {
   "cell_type": "code",
   "execution_count": 10,
   "id": "e465df94",
   "metadata": {},
   "outputs": [
    {
     "name": "stdout",
     "output_type": "stream",
     "text": [
      "Fitting 15 folds for each of 96 candidates, totalling 1440 fits\n"
     ]
    }
   ],
   "source": [
    "df_classifier = DecisionTreeClassifier(random_state=999)\n",
    "\n",
    "params_DT = {'criterion': ['gini', 'entropy'],\n",
    "             'max_depth': [1, 2, 3, 4, 5, 6, 7, 8, 9, 10, 15, 20],\n",
    "             'min_samples_split': [2, 3, 5, 10]}\n",
    "\n",
    "gs_DT = GridSearchCV(estimator=df_classifier, \n",
    "                     param_grid=params_DT, \n",
    "                     cv=cv_method,\n",
    "                     verbose=1, \n",
    "                     scoring='accuracy')\n",
    "\n",
    "gs_DT.fit(Data, target);"
   ]
  },
  {
   "cell_type": "code",
   "execution_count": 11,
   "id": "c714496a",
   "metadata": {},
   "outputs": [
    {
     "data": {
      "text/plain": [
       "{'criterion': 'gini', 'max_depth': 6, 'min_samples_split': 3}"
      ]
     },
     "execution_count": 11,
     "metadata": {},
     "output_type": "execute_result"
    }
   ],
   "source": [
    "gs_DT.best_params_"
   ]
  },
  {
   "cell_type": "code",
   "execution_count": 12,
   "id": "0f9158bc",
   "metadata": {},
   "outputs": [
    {
     "data": {
      "text/plain": [
       "0.8736566091954022"
      ]
     },
     "execution_count": 12,
     "metadata": {},
     "output_type": "execute_result"
    }
   ],
   "source": [
    "gs_DT.best_score_"
   ]
  },
  {
   "cell_type": "code",
   "execution_count": 13,
   "id": "9e109da0",
   "metadata": {
    "scrolled": true
   },
   "outputs": [
    {
     "data": {
      "image/png": "[encoded data removed]",
      "text/plain": [
       "<Figure size 432x288 with 1 Axes>"
      ]
     },
     "metadata": {
      "needs_background": "light"
     },
     "output_type": "display_data"
    }
   ],
   "source": [
    "results_DT = pd.DataFrame(gs_DT.cv_results_['params'])\n",
    "results_DT['test_score'] = gs_DT.cv_results_['mean_test_score']\n",
    "\n",
    "\n",
    "for i in ['gini', 'entropy']:\n",
    "    temp = results_DT[results_DT['criterion'] == i]\n",
    "    temp_average = temp.groupby('max_depth').agg({'test_score': 'mean'})\n",
    "    plt.plot(temp_average, marker = '.', label = i)\n",
    "    \n",
    "    \n",
    "plt.legend()\n",
    "plt.xlabel('Max Depth')\n",
    "plt.ylabel(\"Mean CV Score\")\n",
    "plt.title(\"DT Performance Comparison\")\n",
    "plt.show()"
   ]
  },
  {
   "cell_type": "markdown",
   "id": "c356d0f5",
   "metadata": {},
   "source": [
    "#### KNN Nearest Neigbours"
   ]
  },
  {
   "cell_type": "code",
   "execution_count": 14,
   "id": "d4e4d5e4",
   "metadata": {},
   "outputs": [
    {
     "name": "stdout",
     "output_type": "stream",
     "text": [
      "Fitting 15 folds for each of 14 candidates, totalling 210 fits\n"
     ]
    }
   ],
   "source": [
    "params_KNN = {'n_neighbors': [1, 2, 3, 4, 5, 6, 7], \n",
    "              'p': [1, 2]}\n",
    "\n",
    "gs_KNN = GridSearchCV(estimator=KNeighborsClassifier(), \n",
    "                      param_grid=params_KNN, \n",
    "                      cv=cv_method,\n",
    "                      verbose=1, \n",
    "                      scoring='accuracy', \n",
    "                      return_train_score=True)\n",
    "\n",
    "gs_KNN.fit(Data, target);"
   ]
  },
  {
   "cell_type": "code",
   "execution_count": 15,
   "id": "4c9dec44",
   "metadata": {},
   "outputs": [
    {
     "data": {
      "text/plain": [
       "{'n_neighbors': 3, 'p': 2}"
      ]
     },
     "execution_count": 15,
     "metadata": {},
     "output_type": "execute_result"
    }
   ],
   "source": [
    "gs_KNN.best_params_"
   ]
  },
  {
   "cell_type": "code",
   "execution_count": 16,
   "id": "09f64078",
   "metadata": {},
   "outputs": [
    {
     "data": {
      "text/plain": [
       "0.8784646029258099"
      ]
     },
     "execution_count": 16,
     "metadata": {},
     "output_type": "execute_result"
    }
   ],
   "source": [
    "gs_KNN.best_score_"
   ]
  },
  {
   "cell_type": "code",
   "execution_count": 17,
   "id": "058a71a5",
   "metadata": {},
   "outputs": [
    {
     "data": {
      "text/plain": [
       "array([0.87220481, 0.87533242, 0.83614028, 0.83509274, 0.87054271,\n",
       "       0.8784646 , 0.85178357, 0.85699843, 0.86908699, 0.87158634,\n",
       "       0.85866575, 0.85469958, 0.86699974, 0.86595873])"
      ]
     },
     "execution_count": 17,
     "metadata": {},
     "output_type": "execute_result"
    }
   ],
   "source": [
    "gs_KNN.cv_results_['mean_test_score']"
   ]
  },
  {
   "cell_type": "code",
   "execution_count": 18,
   "id": "7f405390",
   "metadata": {},
   "outputs": [
    {
     "data": {
      "image/png": "[encoded data removed]",
      "text/plain": [
       "<Figure size 432x288 with 1 Axes>"
      ]
     },
     "metadata": {
      "image/png": {
       "height": 281,
       "width": 394
      }
     },
     "output_type": "display_data"
    }
   ],
   "source": [
    "results_KNN = pd.DataFrame(gs_KNN.cv_results_['params'])\n",
    "results_KNN['test_score'] = gs_KNN.cv_results_['mean_test_score']\n",
    "results_KNN['metric'] = results_KNN['p'].replace([1,2], [\"Manhattan\", \"Euclidean\"])\n",
    "\n",
    "\n",
    "%matplotlib inline \n",
    "%config InlineBackend.figure_format = 'retina'\n",
    "plt.style.use(\"ggplot\")\n",
    "\n",
    "for i in [\"Manhattan\", \"Euclidean\"]:\n",
    "    temp = results_KNN[results_KNN['metric'] == i]\n",
    "    plt.plot(temp['n_neighbors'], temp['test_score'], marker = '.', label = i)\n",
    "    \n",
    "plt.legend()\n",
    "plt.xlabel('Number of Neighbors')\n",
    "plt.ylabel(\"Mean CV Score\")\n",
    "plt.title(\"KNN Performance Comparison\")\n",
    "plt.show()"
   ]
  },
  {
   "cell_type": "markdown",
   "id": "d9773bfd",
   "metadata": {},
   "source": [
    "#### Gaussian Naive Bayes"
   ]
  },
  {
   "cell_type": "code",
   "execution_count": 19,
   "id": "b5573d2e",
   "metadata": {},
   "outputs": [
    {
     "name": "stdout",
     "output_type": "stream",
     "text": [
      "Fitting 15 folds for each of 100 candidates, totalling 1500 fits\n"
     ]
    }
   ],
   "source": [
    "nb_classifier = GaussianNB()\n",
    "\n",
    "params_NB = {'var_smoothing': np.logspace(0,-9, num=100)}\n",
    "\n",
    "gs_NB = GridSearchCV(estimator=nb_classifier, \n",
    "                     param_grid=params_NB, \n",
    "                     cv=cv_method,\n",
    "                     verbose=1, \n",
    "                     scoring='accuracy')\n",
    "\n",
    "Data_transformed = PowerTransformer().fit_transform(Data)\n",
    "\n",
    "gs_NB.fit(Data_transformed, target);"
   ]
  },
  {
   "cell_type": "code",
   "execution_count": 20,
   "id": "c3522686",
   "metadata": {},
   "outputs": [
    {
     "data": {
      "text/plain": [
       "{'var_smoothing': 0.657933224657568}"
      ]
     },
     "execution_count": 20,
     "metadata": {},
     "output_type": "execute_result"
    }
   ],
   "source": [
    "gs_NB.best_params_"
   ]
  },
  {
   "cell_type": "code",
   "execution_count": 21,
   "id": "9c57e107",
   "metadata": {},
   "outputs": [
    {
     "data": {
      "text/plain": [
       "0.867426854754441"
      ]
     },
     "execution_count": 21,
     "metadata": {},
     "output_type": "execute_result"
    }
   ],
   "source": [
    "gs_NB.best_score_"
   ]
  },
  {
   "cell_type": "code",
   "execution_count": 22,
   "id": "4de8a6ec",
   "metadata": {},
   "outputs": [
    {
     "data": {
      "image/png": "[encoded data removed]",
      "text/plain": [
       "<Figure size 432x288 with 1 Axes>"
      ]
     },
     "metadata": {
      "image/png": {
       "height": 281,
       "width": 400
      }
     },
     "output_type": "display_data"
    }
   ],
   "source": [
    "results_NB = pd.DataFrame(gs_NB.cv_results_['params'])\n",
    "results_NB['test_score'] = gs_NB.cv_results_['mean_test_score']\n",
    "\n",
    "plt.plot(results_NB['var_smoothing'], results_NB['test_score'], marker = '.')    \n",
    "plt.xlabel('Var. Smoothing')\n",
    "plt.ylabel(\"Mean CV Score\")\n",
    "plt.title(\"NB Performance Comparison\")\n",
    "plt.show()\n",
    "\n"
   ]
  },
  {
   "cell_type": "markdown",
   "id": "b0219b5c",
   "metadata": {},
   "source": [
    "### Model Comparison <a id = 'comparison'></a>\n",
    "For comparison only the top 5 features, ranked by F score will be used instead of the whole dataset as above.\n",
    "\n",
    "The below chunks include feature selection in the pipeline and include all the definitions outlined above in the fitting stage. Should these produce better results than the complete set they will be assessed against one another using paired t-tests.\n",
    "\n"
   ]
  },
  {
   "cell_type": "code",
   "execution_count": 23,
   "id": "6a64ae33",
   "metadata": {},
   "outputs": [
    {
     "name": "stdout",
     "output_type": "stream",
     "text": [
      "Fitting 15 folds for each of 10 candidates, totalling 150 fits\n"
     ]
    }
   ],
   "source": [
    "params_pipe_KNN_fs = {'fselector__k': [5],\n",
    "                      'knn__n_neighbors': [1, 2, 3, 4, 5],\n",
    "                      'knn__p': [1, 2]}\n",
    " \n",
    "pipe_KNN_fs = Pipeline([('fselector', SelectKBest(score_func=f_classif)), \n",
    "                        ('knn', KNeighborsClassifier())])\n",
    "\n",
    "gs_pipe_KNN_fs = GridSearchCV(estimator=pipe_KNN_fs, \n",
    "                           param_grid=params_pipe_KNN_fs, \n",
    "                           cv=cv_method,\n",
    "                           n_jobs=-2,\n",
    "                           scoring='accuracy', \n",
    "                           verbose=1)\n",
    "\n",
    "gs_pipe_KNN_fs.fit(Data, target);"
   ]
  },
  {
   "cell_type": "code",
   "execution_count": 24,
   "id": "6c25dd37",
   "metadata": {},
   "outputs": [
    {
     "data": {
      "text/plain": [
       "{'fselector__k': 5, 'knn__n_neighbors': 3, 'knn__p': 2}"
      ]
     },
     "execution_count": 24,
     "metadata": {},
     "output_type": "execute_result"
    }
   ],
   "source": [
    "gs_pipe_KNN_fs.best_params_"
   ]
  },
  {
   "cell_type": "code",
   "execution_count": 25,
   "id": "4fcf92cf",
   "metadata": {},
   "outputs": [
    {
     "data": {
      "text/plain": [
       "0.8784646029258099"
      ]
     },
     "execution_count": 25,
     "metadata": {},
     "output_type": "execute_result"
    }
   ],
   "source": [
    "gs_KNN.best_score_ #best score using whole dataset"
   ]
  },
  {
   "cell_type": "code",
   "execution_count": 26,
   "id": "642c5ca8",
   "metadata": {},
   "outputs": [
    {
     "data": {
      "text/plain": [
       "0.8695030041797281"
      ]
     },
     "execution_count": 26,
     "metadata": {},
     "output_type": "execute_result"
    }
   ],
   "source": [
    "gs_pipe_KNN_fs.best_score_ #best score feature selection"
   ]
  },
  {
   "cell_type": "code",
   "execution_count": 27,
   "id": "0ccce66d",
   "metadata": {},
   "outputs": [
    {
     "name": "stdout",
     "output_type": "stream",
     "text": [
      "Fitting 15 folds for each of 8 candidates, totalling 120 fits\n"
     ]
    }
   ],
   "source": [
    "params_pipe_DT_fs = {'fselector__k': [5],                  \n",
    "                  'dt__criterion': ['gini', 'entropy'],\n",
    "                  'dt__max_depth': [1, 2, 3, 4]}\n",
    " \n",
    "pipe_DT_fs = Pipeline([('fselector', SelectKBest(score_func=f_classif)), \n",
    "                    ('dt', df_classifier)])\n",
    "\n",
    "gs_pipe_DT_fs  = GridSearchCV(estimator=pipe_DT_fs, \n",
    "                           param_grid=params_pipe_DT_fs, \n",
    "                           cv=cv_method,\n",
    "                           n_jobs=-2,\n",
    "                           scoring='accuracy', \n",
    "                           verbose=1)\n",
    "\n",
    "gs_pipe_DT_fs.fit(Data, target);"
   ]
  },
  {
   "cell_type": "code",
   "execution_count": 28,
   "id": "3c3cea70",
   "metadata": {},
   "outputs": [
    {
     "data": {
      "text/plain": [
       "{'dt__criterion': 'gini', 'dt__max_depth': 2, 'fselector__k': 5}"
      ]
     },
     "execution_count": 28,
     "metadata": {},
     "output_type": "execute_result"
    }
   ],
   "source": [
    "gs_pipe_DT_fs.best_params_"
   ]
  },
  {
   "cell_type": "code",
   "execution_count": 29,
   "id": "ddaf19a3",
   "metadata": {},
   "outputs": [
    {
     "data": {
      "text/plain": [
       "0.8736566091954022"
      ]
     },
     "execution_count": 29,
     "metadata": {},
     "output_type": "execute_result"
    }
   ],
   "source": [
    "gs_DT.best_score_ #best score whole dataset"
   ]
  },
  {
   "cell_type": "code",
   "execution_count": 30,
   "id": "1bcd423b",
   "metadata": {
    "scrolled": true
   },
   "outputs": [
    {
     "data": {
      "text/plain": [
       "0.8699144461859979"
      ]
     },
     "execution_count": 30,
     "metadata": {},
     "output_type": "execute_result"
    }
   ],
   "source": [
    "gs_pipe_DT_fs.best_score_ #best score feature selection"
   ]
  },
  {
   "cell_type": "code",
   "execution_count": 31,
   "id": "cddb6842",
   "metadata": {
    "scrolled": true
   },
   "outputs": [
    {
     "name": "stdout",
     "output_type": "stream",
     "text": [
      "Fitting 15 folds for each of 100 candidates, totalling 1500 fits\n"
     ]
    }
   ],
   "source": [
    "params_pipe_NB_fs = {'fselector__k': [5],\n",
    "                'nb__var_smoothing' : np.logspace(0,-9, num=100)\n",
    "                    }\n",
    "pipe_NB_fs = Pipeline([('fselector', SelectKBest(score_func=f_classif)), \n",
    "                        ('nb', nb_classifier)])\n",
    "\n",
    "gs_pipe_NB_fs = GridSearchCV(estimator=pipe_NB_fs, \n",
    "                           param_grid=params_pipe_NB_fs, \n",
    "                           cv=cv_method,\n",
    "                           n_jobs=-2,\n",
    "                           scoring='accuracy', \n",
    "                           verbose=1)\n",
    "\n",
    "gs_pipe_NB_fs.fit(Data_transformed, target);"
   ]
  },
  {
   "cell_type": "code",
   "execution_count": 32,
   "id": "3f29f2f7",
   "metadata": {},
   "outputs": [
    {
     "data": {
      "text/plain": [
       "{'fselector__k': 5, 'nb__var_smoothing': 0.8111308307896871}"
      ]
     },
     "execution_count": 32,
     "metadata": {},
     "output_type": "execute_result"
    }
   ],
   "source": [
    "gs_pipe_NB_fs.best_params_"
   ]
  },
  {
   "cell_type": "code",
   "execution_count": 33,
   "id": "2731bf6a",
   "metadata": {},
   "outputs": [
    {
     "data": {
      "text/plain": [
       "0.867426854754441"
      ]
     },
     "execution_count": 33,
     "metadata": {},
     "output_type": "execute_result"
    }
   ],
   "source": [
    "gs_NB.best_score_ #best score whole dataset"
   ]
  },
  {
   "cell_type": "code",
   "execution_count": 34,
   "id": "af873e12",
   "metadata": {
    "scrolled": false
   },
   "outputs": [
    {
     "data": {
      "text/plain": [
       "0.8709639498432601"
      ]
     },
     "execution_count": 34,
     "metadata": {},
     "output_type": "execute_result"
    }
   ],
   "source": [
    "gs_pipe_NB_fs.best_score_ #best score feature selection"
   ]
  },
  {
   "cell_type": "markdown",
   "id": "23eb5f5d",
   "metadata": {},
   "source": [
    "Apart from the gaussianNB pipeline, better scores were found using the entire dataset than with feature selection, but only just. These differences could be attributed to the cross-validation process. The below chunks will run the pipelines again, this time with a different random state and 2 more repeats and the results shall be tested for statistical significance against each other. For the purposes of this test significance will be defined at 95%,"
   ]
  },
  {
   "cell_type": "markdown",
   "id": "29146d2d",
   "metadata": {},
   "source": [
    "#### Paired T-Tests"
   ]
  },
  {
   "cell_type": "code",
   "execution_count": 35,
   "id": "e7c52738",
   "metadata": {},
   "outputs": [],
   "source": [
    "cv_method_ttest = RepeatedStratifiedKFold(n_splits=5, \n",
    "                                          n_repeats=5, \n",
    "                                          random_state=123)"
   ]
  },
  {
   "cell_type": "code",
   "execution_count": 36,
   "id": "6b731515",
   "metadata": {},
   "outputs": [
    {
     "data": {
      "text/plain": [
       "0.871"
      ]
     },
     "execution_count": 36,
     "metadata": {},
     "output_type": "execute_result"
    }
   ],
   "source": [
    "cv_results_KNN = cross_val_score(estimator=gs_pipe_KNN_fs.best_estimator_,\n",
    "                                 X=Data,\n",
    "                                 y=target, \n",
    "                                 cv=cv_method_ttest, \n",
    "                                 n_jobs=-2,\n",
    "                                 scoring='accuracy')\n",
    "cv_results_KNN.mean().round(3)"
   ]
  },
  {
   "cell_type": "code",
   "execution_count": 37,
   "id": "a218d7fa",
   "metadata": {},
   "outputs": [
    {
     "data": {
      "text/plain": [
       "0.87"
      ]
     },
     "execution_count": 37,
     "metadata": {},
     "output_type": "execute_result"
    }
   ],
   "source": [
    "cv_results_DT = cross_val_score(estimator=gs_pipe_DT_fs.best_estimator_,\n",
    "                                X=Data,\n",
    "                                y=target, \n",
    "                                cv=cv_method_ttest, \n",
    "                                n_jobs=-2,\n",
    "                                scoring='accuracy')\n",
    "cv_results_DT.mean().round(3)"
   ]
  },
  {
   "cell_type": "code",
   "execution_count": 38,
   "id": "f89fa9d7",
   "metadata": {},
   "outputs": [
    {
     "data": {
      "text/plain": [
       "0.867"
      ]
     },
     "execution_count": 38,
     "metadata": {},
     "output_type": "execute_result"
    }
   ],
   "source": [
    "cv_results_NB = cross_val_score(estimator=gs_pipe_NB_fs.best_estimator_,\n",
    "                                 X=Data_transformed,\n",
    "                                 y=target, \n",
    "                                 cv=cv_method_ttest, \n",
    "                                 n_jobs=-2,\n",
    "                                 scoring='accuracy')\n",
    "cv_results_NB.mean().round(3)"
   ]
  },
  {
   "cell_type": "markdown",
   "id": "7bd60e42",
   "metadata": {},
   "source": [
    "Result of comparison between KNN and DT"
   ]
  },
  {
   "cell_type": "code",
   "execution_count": 39,
   "id": "cfa6aecd",
   "metadata": {},
   "outputs": [
    {
     "name": "stdout",
     "output_type": "stream",
     "text": [
      "0.88\n"
     ]
    }
   ],
   "source": [
    "print(stats.ttest_rel(cv_results_DT, cv_results_KNN).pvalue.round(3))"
   ]
  },
  {
   "cell_type": "markdown",
   "id": "49d7e4bd",
   "metadata": {},
   "source": [
    "Result of comparison netween kNN and NB"
   ]
  },
  {
   "cell_type": "code",
   "execution_count": 40,
   "id": "b7795ce3",
   "metadata": {},
   "outputs": [
    {
     "name": "stdout",
     "output_type": "stream",
     "text": [
      "0.293\n"
     ]
    }
   ],
   "source": [
    "print(stats.ttest_rel(cv_results_NB, cv_results_KNN).pvalue.round(3))"
   ]
  },
  {
   "cell_type": "markdown",
   "id": "07c43ef8",
   "metadata": {},
   "source": [
    "Result of comparison between NB and DT"
   ]
  },
  {
   "cell_type": "code",
   "execution_count": 41,
   "id": "ca838324",
   "metadata": {},
   "outputs": [
    {
     "name": "stdout",
     "output_type": "stream",
     "text": [
      "0.272\n"
     ]
    }
   ],
   "source": [
    "print(stats.ttest_rel(cv_results_NB, cv_results_DT).pvalue.round(3))"
   ]
  },
  {
   "cell_type": "markdown",
   "id": "e111d0f0",
   "metadata": {},
   "source": [
    "Here it can be seen that none of our comparisons are statistaticly significant as they all score above 0.05. This means that there is insuffiecient proof to reject the null hypothesis indicating that the percieved differences are the product of chance."
   ]
  },
  {
   "cell_type": "markdown",
   "id": "549cb779",
   "metadata": {},
   "source": [
    "## Critique & Limitations <a id = 'critique'></a>\n",
    "Initial attempts at this project involved using all values in the target variable, binning these six categories into two separate, but more meaningful categories demonstrated how important it is to set and know your goals first! The failure to adequately plan likely cost many hours but resulted in a refocus that yielded much higher accuracy scores in the end. Working with a binary classifier is also much simpler than a classifier with six levels, the product of a ML project needs to be meaningful and designing a wine to score a 3 in quality is not particularly meaningful, get rid of the levels and just have 'Good' and \"Bad'.\n",
    "\n",
    "Reading the report for which the dataset was originally created (Cortez, P., 2009) revealed how important feature selection was. This project initially discarded feature selection in favour of using the entire set, this was because phase 1 visualisations did not reveal meaningful correlations e.g., The strong relationship between alcohol and quality was dismissed as one couldn't just keep adding more alcohol to a bottle to make it better, at some point it would stop being wine! Furthermore, the original report uses a much more sophisticated feature selection technique than this report, and consequentially received different results. This signals that the approach used here should have focused more on that aspect instead of just using the whole dataset because it had so few variables.\n"
   ]
  },
  {
   "cell_type": "markdown",
   "id": "6c231115",
   "metadata": {},
   "source": [
    "## Summary & Conclusions <a id = 'con'></a>"
   ]
  },
  {
   "cell_type": "markdown",
   "id": "94484b47",
   "metadata": {},
   "source": [
    "### Project Summary <a id = 'PS'></a>\n",
    "\n",
    "The initial phase of this project began with the selection of a dataset that was close to my own working experience. Being able to predict the quality of a product before it is exposed to the market is extremely beneficial, more so with consumables that prioritise a specific flavour profile. To be able to predict how a product will perform by comparing it to others within a similar rating or category can save a lot of money and place you in a much better position from which to enter any market. \n",
    "\n",
    "Once the dataset was selected, I outlined my goals and selected the target variable, which in the beginning was ‘quality’. Later in phase 2 this would change, and the target variable would be transformed from this variable instead as it contained many levels that were not helpful. The dataset was clean and contained no null values or special characters etc… and all numeric values were consistent and made logical sense.\n",
    "\n",
    "Visualising the data was the next step. Using python libraries such as matplotlib and seaborn I was able to detect several relationships between the different variables and the target but also between the different descriptors as well. It was important that all relationships made sense e.g., as citric acidity rose pH levels should fall, as alcohol rose so should density and so on. Using a seaborn pair plot allowed me to see these relationships clearly and this gave me confidence that this project could yield meaningful results as the data was not random and indeed reflective of real-world chemical analysis. The plots specifically revealed relationships between acidity and alcohol content as they pertain to lower quality wines when these levels are lowest, this relationship was confirmed during formal feature selection in phase 2.\n",
    "\n",
    "In phase 2 some further processing was performed to transform the target variable into a binary class, then the descriptive features were scaled, and the target feature converted to numeric type to facilitate the algorithms being used. Feature selection involved the ranking of the top 5 features in the set based on F-score, these results confirmed the strong relationship between the alcohol and acidity variables and the target. During the initial fitting and tuning phase however, the entire dataset was used.\n",
    "\n",
    "For fitting and tuning I applied three different algorithms. These were decision trees, k nearest neighbours and gaussian naïve bayes, using the accuracy metric on all three. After this process I performed paired t-tests (this time using the top 5 selected features as part of a pipeline) to both determine the highest performing algorithm and ensure their performance was statistically sound and not the products of random chance.\n"
   ]
  },
  {
   "cell_type": "markdown",
   "id": "79555ff1",
   "metadata": {},
   "source": [
    "### Summary of Findings <a id = 'find'></a>"
   ]
  },
  {
   "cell_type": "markdown",
   "id": "022a081e",
   "metadata": {},
   "source": [
    "Overall, each algorithm returned very similar results at around 87% either with or without feature selection with only KNN performing higher on the whole dataset with nearly 88% accuracy where k= 3 using Euclidean distance, however after further refinement and paired t-tests it was discovered that the difference in the results was likely due to chance.\n",
    "\n",
    "That said it would make sense for KNN to work best in what is essentially a subjective assessment of wine flavour, bottles containing similar chemical quantities would clump together in the feature space making a newcomer’s position in that space significant.\n"
   ]
  },
  {
   "cell_type": "markdown",
   "id": "7db406e3",
   "metadata": {},
   "source": [
    "### Conclusions <a id = 'cons'></a>\n",
    "It is safe to conclude that predictive modelling on this type of problem is a worthy pursuit, even when performed by a beginner analyst. These algorithms prove powerful in predicting the quality of red wine based on the objective and quantifiable characteristics present in the beverage and even at an accuracy only in the high eighties these results would aid merchants and vintners greatly in selecting what wines should go to market.\n",
    "\n",
    "In short, I was able to both predict the quality of red wine, as defined between the two categories of High and low quality and I was able to recognise the key features that determine that out come through the feature selection processes outlined above. Both goals have been achieved.\n",
    "\n"
   ]
  },
  {
   "cell_type": "markdown",
   "id": "15f4dc13",
   "metadata": {},
   "source": [
    "## References <a id = 'references'></a>\n",
    "\n",
    "Boulton, R. B., Singleton, V. L., Bisson, L. F., & Kunkee, R. E. (2013). Principles and practices of winemaking. Springer Science & Business Media.\n",
    "\n",
    "Cortez, P., Cerdeira, A., Almeida, F., Matos, T., & Reis, J. (2009). Modeling wine preferences by data mining from physicochemical properties. Decision support systems, 47(4), 547-553."
   ]
  }
 ],
 "metadata": {
  "kernelspec": {
   "display_name": "Python 3 (ipykernel)",
   "language": "python",
   "name": "python3"
  },
  "language_info": {
   "codemirror_mode": {
    "name": "ipython",
    "version": 3
   },
   "file_extension": ".py",
   "mimetype": "text/x-python",
   "name": "python",
   "nbconvert_exporter": "python",
   "pygments_lexer": "ipython3",
   "version": "3.8.12"
  }
 },
 "nbformat": 4,
 "nbformat_minor": 5
}

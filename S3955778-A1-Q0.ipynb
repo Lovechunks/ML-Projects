{
 "cells": [
  {
   "cell_type": "markdown",
   "id": "41a1c3ab",
   "metadata": {
    "pycharm": {
     "name": "#%% md\n"
    }
   },
   "source": [
    "# Environment setup"
   ]
  },
  {
   "cell_type": "markdown",
   "id": "e74ffce2",
   "metadata": {
    "pycharm": {
     "name": "#%% md\n"
    }
   },
   "source": [
    "Let's make sure our environment is setup correctly and save a requirements.txt file to prove it."
   ]
  },
  {
   "cell_type": "code",
   "execution_count": 1,
   "id": "bad3a809",
   "metadata": {
    "pycharm": {
     "name": "#%%\n"
    }
   },
   "outputs": [
    {
     "name": "stdout",
     "output_type": "stream",
     "text": [
      "3.8.8\n"
     ]
    }
   ],
   "source": [
    "# This should show python 3.8.x. If not, stop now \n",
    "# and get your environment right.\n",
    "\n",
    "from platform import python_version\n",
    "\n",
    "print(python_version())"
   ]
  },
  {
   "cell_type": "code",
   "execution_count": 2,
   "id": "4f5839bf",
   "metadata": {
    "pycharm": {
     "name": "#%%\n"
    }
   },
   "outputs": [
    {
     "name": "stdout",
     "output_type": "stream",
     "text": [
      "base\n"
     ]
    }
   ],
   "source": [
    "import os\n",
    "\n",
    "print(os.environ['CONDA_DEFAULT_ENV'])"
   ]
  },
  {
   "cell_type": "code",
   "execution_count": 3,
   "id": "954de753",
   "metadata": {
    "pycharm": {
     "name": "#%%\n"
    }
   },
   "outputs": [
    {
     "name": "stdout",
     "output_type": "stream",
     "text": [
      "numpy is installed.\n",
      "pandas is installed.\n",
      "pyarrow is not installed.\n",
      "Installing pyarrow\n"
     ]
    },
    {
     "name": "stderr",
     "output_type": "stream",
     "text": [
      "'{sys.executable}' is not recognized as an internal or external command,\n",
      "operable program or batch file.\n"
     ]
    }
   ],
   "source": [
    "# These should be the only libraries you need in your environment.\n",
    "# pandas, numpy, pyarrow\n",
    "\n",
    "# % pip install numpy pandas pyarrow\n",
    "\n",
    "import importlib.util\n",
    "\n",
    "package_names = ['numpy', 'pandas', 'pyarrow']\n",
    "for pkg in package_names:\n",
    "    spec = importlib.util.find_spec(pkg)\n",
    "    if spec is None:\n",
    "        print('{} is not installed.'.format(pkg))\n",
    "        print('Installing {}'.format(pkg))\n",
    "        !{sys.executable} -m pip install pkg\n",
    "    else:\n",
    "        print('{} is installed.'.format(pkg))"
   ]
  },
  {
   "cell_type": "code",
   "execution_count": 5,
   "id": "63b02325",
   "metadata": {},
   "outputs": [
    {
     "name": "stdout",
     "output_type": "stream",
     "text": [
      "Collecting pyarrow\n",
      "  Downloading pyarrow-9.0.0-cp38-cp38-win_amd64.whl (19.6 MB)\n",
      "Requirement already satisfied: numpy>=1.16.6 in c:\\users\\galen\\anaconda3\\lib\\site-packages (from pyarrow) (1.20.1)\n",
      "Installing collected packages: pyarrow\n",
      "Successfully installed pyarrow-9.0.0\n"
     ]
    }
   ],
   "source": [
    "!pip install pyarrow #had to add this to get it to install"
   ]
  },
  {
   "cell_type": "code",
   "execution_count": 6,
   "id": "c8114d47",
   "metadata": {
    "pycharm": {
     "name": "#%%\n"
    }
   },
   "outputs": [],
   "source": [
    "# This will be a silent operation. You will see no output.\n",
    "# Instead, the output is saved into a file called 'requirements.txt'\n",
    "# in your working directory, which you should submit with your\n",
    "# assignment to show that everything is OK.\n",
    "\n",
    "!pip freeze > requirements.txt"
   ]
  },
  {
   "cell_type": "code",
   "execution_count": null,
   "id": "324e31a7",
   "metadata": {},
   "outputs": [],
   "source": []
  }
 ],
 "metadata": {
  "kernelspec": {
   "display_name": "Python 3",
   "language": "python",
   "name": "python3"
  },
  "language_info": {
   "codemirror_mode": {
    "name": "ipython",
    "version": 3
   },
   "file_extension": ".py",
   "mimetype": "text/x-python",
   "name": "python",
   "nbconvert_exporter": "python",
   "pygments_lexer": "ipython3",
   "version": "3.8.8"
  }
 },
 "nbformat": 4,
 "nbformat_minor": 5
}

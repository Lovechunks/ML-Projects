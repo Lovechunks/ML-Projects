{
 "cells": [
  {
   "cell_type": "markdown",
   "id": "41a1c3ab",
   "metadata": {},
   "source": [
    "# Question 5 -- Pretty Printing Sorted Posts"
   ]
  },
  {
   "cell_type": "markdown",
   "id": "b14090fc",
   "metadata": {},
   "source": [
    "So far, we have been using only a few columns of data from our dataframes to solve simple dataframe manipulation challenges. Our final challenge will be to print out\n",
    "all of the posts as you might see them displayed on the Stack Overflow Website. The format you must use is simple. Here is a template:\n",
    "```\n",
    "### Question <number><tab><username><tab><score> ###\n",
    "Title:<title>\n",
    "<body>\n",
    "### COMMENTS ###\n",
    "### Comment <number><tab><username><tab><score> ###\n",
    "<text>\n",
    "### ANSWERS ###\n",
    "### Answer <number><tab><username><tab><score> ###\n",
    "Title:<title>\n",
    "<body>\n",
    "### COMMENTS ###\n",
    "### Comment <number><tab><username><tab><score> ###\n",
    "<text>\n",
    "```\n",
    "Notes: the <number> field is one that you manually index. So the first question would be 1 and the tenth question would be 10. All questions, comments, and answers should be displayed in decending score order. This should be easy if you got the three files sorted correctly in Exercise 2. Finally, the username must be retrieved from the 'Users.feather' file using the correct key. It should be easy to figure out the key based on the input file if you inspect the column headers. I have provided you with a convenience function that will do the lookup and return a string name once you have the 'Users.feather' file loaded. The <tab> is simply a single tab ('\\t') to separate the three fields."
   ]
  },
  {
   "cell_type": "markdown",
   "id": "aadf950e",
   "metadata": {},
   "source": [
    "### Read a feather file and return a dataframe. This is already done for you. You just have to call it from main to convert a feather file into a dataframe."
   ]
  },
  {
   "cell_type": "code",
   "execution_count": null,
   "id": "c8114d47",
   "metadata": {},
   "outputs": [],
   "source": [
    "import pyarrow.feather as feather\n",
    "import pandas as pd"
   ]
  },
  {
   "cell_type": "code",
   "execution_count": null,
   "id": "5675ff81",
   "metadata": {},
   "outputs": [],
   "source": [
    "def arrow_to_df(input_file_name):\n",
    "    df = feather.read_feather(input_file_name)\n",
    "    return df"
   ]
  },
  {
   "cell_type": "markdown",
   "id": "08b68be9",
   "metadata": {},
   "source": [
    "### This function will retrieve a User Display Name based on a user ID."
   ]
  },
  {
   "cell_type": "code",
   "execution_count": null,
   "id": "c154baf7",
   "metadata": {},
   "outputs": [],
   "source": [
    "def get_user_name_from_id(users_df,user_id):\n",
    "    rv = users_df[users_df['Id']==user_id]['DisplayName'].values[0]\n",
    "    return rv"
   ]
  },
  {
   "cell_type": "markdown",
   "id": "80bd4cc3",
   "metadata": {},
   "source": [
    "### Copy your sort function from Question 2 here."
   ]
  },
  {
   "cell_type": "code",
   "execution_count": null,
   "id": "e7879fff",
   "metadata": {},
   "outputs": [],
   "source": [
    "def sort_df (df, key):\n",
    "    df = df.sort_values(by=key, ascending=False)\n",
    "    return df"
   ]
  },
  {
   "cell_type": "markdown",
   "id": "a4cec5b7",
   "metadata": {},
   "source": [
    "### Main Loop -- Hint of a structure:\n",
    "* First read the 'Users.feather', 'Comments-Sorted.feather', Answers-Sorted.feather, and 'Questions.feather' files into dataframes using the provided function.\n",
    "* Note that we never sorted the questions by score, so we should do that first using the sort function from Question 2.\n",
    "* Now walk the questions dataframe, in each iteration, find the comments that belong to the question, the answers that belong to the question, and finally, the comments that belong to each answer. \n",
    "* As you iterate over the dataframes, you will need to lookup Usernames.\n",
    "* As you iterate over the dataframes, you will periodically write out the text to display following the format in the header. \n",
    "* Conceptually, open a file for writing named 'Display-Posts.txt' for writing, and write lines when you have the data from the dataframe for that iteration.\n",
    "* A sample file that shows the first post from my solution will be provided. You can use this as a sanity check when you write out all of the posts."
   ]
  },
  {
   "cell_type": "code",
   "execution_count": null,
   "id": "5341a6a2",
   "metadata": {},
   "outputs": [],
   "source": [
    "# Now we show the main wrapper that you should complete when\n",
    "# you finalise your assignment. A hint of the structure is above.\n",
    "def main():\n",
    "    # TODO\n",
    "    return"
   ]
  },
  {
   "cell_type": "code",
   "execution_count": null,
   "id": "624faa3e",
   "metadata": {},
   "outputs": [],
   "source": [
    "# Here is the definition of the \"main\" loop execution function shown\n",
    "# in Lectorial 2\n",
    "if __name__ == '__main__':\n",
    "    main()\n",
    "    print('[INFO]:Script completed with no errors')"
   ]
  }
 ],
 "metadata": {
  "kernelspec": {
   "display_name": "Python 3",
   "language": "python",
   "name": "python3"
  },
  "language_info": {
   "codemirror_mode": {
    "name": "ipython",
    "version": 3
   },
   "file_extension": ".py",
   "mimetype": "text/x-python",
   "name": "python",
   "nbconvert_exporter": "python",
   "pygments_lexer": "ipython3",
   "version": "3.8.8"
  }
 },
 "nbformat": 4,
 "nbformat_minor": 5
}

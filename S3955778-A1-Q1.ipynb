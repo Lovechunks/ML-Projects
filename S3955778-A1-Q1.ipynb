{
 "cells": [
  {
   "cell_type": "markdown",
   "id": "41a1c3ab",
   "metadata": {},
   "source": [
    "# A1 Problem 1 - Warmup Exercise"
   ]
  },
  {
   "cell_type": "markdown",
   "id": "e74ffce2",
   "metadata": {},
   "source": [
    "The key goal in our first problem is to read in our Posts arrow file into a dataframe. Then we want to split the Posts dataframe into two separate dataframes -- Questions and Answers. After we split them into the two new dataframes, we want to write out the two dataframes into two new feather files, and print out the ids from each of the two dataframes to prove that we got the split correct. Template code and hints are provided below."
   ]
  },
  {
   "cell_type": "markdown",
   "id": "aadf950e",
   "metadata": {},
   "source": [
    "### Read a feather file and return a dataframe. This is already done for you. You just have to call it from main to convert a feather file into a dataframe."
   ]
  },
  {
   "cell_type": "code",
   "execution_count": 2,
   "id": "c8114d47",
   "metadata": {},
   "outputs": [],
   "source": [
    "import pyarrow.feather as feather\n",
    "import pandas as pd"
   ]
  },
  {
   "cell_type": "code",
   "execution_count": 3,
   "id": "5675ff81",
   "metadata": {},
   "outputs": [],
   "source": [
    "def arrow_to_df(input_file_name):\n",
    "    df = feather.read_feather(input_file_name)\n",
    "    return df"
   ]
  },
  {
   "cell_type": "markdown",
   "id": "08b68be9",
   "metadata": {},
   "source": [
    "### Write an feather file using a dataframe. This is done for you, you just need to call it."
   ]
  },
  {
   "cell_type": "code",
   "execution_count": 4,
   "id": "c154baf7",
   "metadata": {},
   "outputs": [],
   "source": [
    "def df_to_arrow(output_file_name, df):\n",
    "    feather.write_feather(df, output_file_name, compression='zstd')\n",
    "    return"
   ]
  },
  {
   "cell_type": "markdown",
   "id": "80bd4cc3",
   "metadata": {},
   "source": [
    "### This function will write the Ids out to a file from a dataframe. You simply need to pass in a dataframe, and a file name to write, like 'ids.txt'."
   ]
  },
  {
   "cell_type": "code",
   "execution_count": 5,
   "id": "e7879fff",
   "metadata": {},
   "outputs": [],
   "source": [
    "def write_ids_to_file(df,out_file):\n",
    "    with open(out_file,'w') as f:\n",
    "        int_arr = df['Id'].to_list()\n",
    "        str_arr = list(map(str,int_arr))\n",
    "        f.write('\\n'.join(str_arr))\n",
    "        # If you wish to enable debug and see the output, uncomment\n",
    "        # the the two lines below.\n",
    "        #print_str = ' '.join(str_arr)\n",
    "        #print ('{}:{}'.format(out_file, print_str))\n",
    "    return\n",
    "        "
   ]
  },
  {
   "cell_type": "markdown",
   "id": "f0f34cb8",
   "metadata": {},
   "source": [
    "### Split the Posts dataframe into questions and answers based on the value of the PostTypeId, where a question = 1 and and  answer = 2. You should return 2 new dataframes, one containing only questions and the other containing only answers."
   ]
  },
  {
   "cell_type": "code",
   "execution_count": 13,
   "id": "11ecb974",
   "metadata": {},
   "outputs": [],
   "source": [
    "#def split_df1(df):       \n",
    "    df1 = pd.DataFrame(df[df[\"PostTypeId\"] == 1])\n",
    "    \n",
    "    return \n",
    "\n",
    "#def split_df2(df):       \n",
    "    \n",
    "    df2 = pd.DataFrame(df[df[\"PostTypeId\"] == 2])\n",
    "    return \n",
    "\n"
   ]
  },
  {
   "cell_type": "markdown",
   "id": "a4cec5b7",
   "metadata": {},
   "source": [
    "### Main Loop -- Hint of a structure:\n",
    "* First read the Posts.feather file into a dataframe using the provided function.\n",
    "* Now get the split_df function working to generate the two new dataframes containing questions and answers.\n",
    "* Now write out the two new dataframes -- Answers.feather and Questions.feather for later.\n",
    "* Finally, you need to call write_ids_to file() for answers ands questions. The output file name should be \"Answer-Ids.txt\" and Question-Ids.txt\"  This will by our sanity check that you got the split function correct. Make sure you use the output file names exactly as shown (case sensitive)."
   ]
  },
  {
   "cell_type": "code",
   "execution_count": 10,
   "id": "5341a6a2",
   "metadata": {},
   "outputs": [],
   "source": [
    "# Now we show the main wrapper that you should complete when\n",
    "# you finalise your assignment. A hint of the structure is above.\n",
    "def main(input_file_name):\n",
    "    \n",
    "    df = arrow_to_df(input_file_name)\n",
    "    \n",
    "    df1 = pd.DataFrame(df[df[\"PostTypeId\"] == 1])\n",
    "    df2 = pd.DataFrame(df[df[\"PostTypeId\"] == 2])\n",
    "    \n",
    "    df_to_arrow(\"Questions.feather\", df1)\n",
    "    df_to_arrow(\"Answers.feather\", df2)\n",
    "    \n",
    "    write_ids_to_file(df1, \"Question-Ids.txt\")\n",
    "    write_ids_to_file(df2, \"Answer-Ids.txt\")\n",
    "    return"
   ]
  },
  {
   "cell_type": "code",
   "execution_count": 13,
   "id": "624faa3e",
   "metadata": {},
   "outputs": [
    {
     "name": "stdout",
     "output_type": "stream",
     "text": [
      "[INFO] Script completed with no errors.\n"
     ]
    }
   ],
   "source": [
    "# Here is the definition of the \"main\" loop execution function shown\n",
    "# in Lectorial 2\n",
    "if __name__ == '__main__':\n",
    "    main(\"Posts.feather\")\n",
    "    print ('[INFO] Script completed with no errors.')\n",
    "    "
   ]
  },
  {
   "cell_type": "code",
   "execution_count": null,
   "id": "0bf04d12",
   "metadata": {},
   "outputs": [],
   "source": []
  }
 ],
 "metadata": {
  "kernelspec": {
   "display_name": "Python 3",
   "language": "python",
   "name": "python3"
  },
  "language_info": {
   "codemirror_mode": {
    "name": "ipython",
    "version": 3
   },
   "file_extension": ".py",
   "mimetype": "text/x-python",
   "name": "python",
   "nbconvert_exporter": "python",
   "pygments_lexer": "ipython3",
   "version": "3.8.8"
  }
 },
 "nbformat": 4,
 "nbformat_minor": 5
}
